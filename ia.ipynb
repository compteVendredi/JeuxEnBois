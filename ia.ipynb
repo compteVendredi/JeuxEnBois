{
 "cells": [
  {
   "cell_type": "markdown",
   "id": "90ea3389",
   "metadata": {},
   "source": [
    "plateau2d => réseau de neurones => prédiction meilleur mouvement"
   ]
  },
  {
   "cell_type": "code",
   "execution_count": 21,
   "id": "419eee27",
   "metadata": {},
   "outputs": [],
   "source": [
    "# -*- coding: utf-8 -*-\n",
    "import torch\n",
    "import torch.nn as nn\n",
    "\n",
    "\n",
    "device = torch.device(\"cpu\")\n",
    "# device = torch.device(\"cuda:0\")  \n",
    "\n",
    "class Model(nn.Module):\n",
    "    def __init__(self):\n",
    "        super().__init__()\n",
    "        self.layer1 = nn.Linear(10*10, 10*10)\n",
    "        self.layer2 = nn.Linear(10*10, 10*10)\n",
    "        \n",
    "    def forward(self, x):\n",
    "        res = self.layer1(x)\n",
    "        res = torch.relu(res)\n",
    "        res = self.layer2(res)\n",
    "        return res\n",
    "    \n",
    "    \n",
    "    \n",
    "def train(model, data, batch_size=64, weight_decay=0.0,\n",
    "          optimizer=\"sgd\", learning_rate=0.1, momentum=0.9,\n",
    "          data_shuffle=True, num_epochs=10):\n",
    "    \n",
    "    train_loader = torch.utils.data.DataLoader(data,\n",
    "                                               batch_size=batch_size,\n",
    "                                               shuffle=data_shuffle)\n",
    "    # la loss \n",
    "    criterion = nn.CrossEntropyLoss()\n",
    "    # l'optimiseur\n",
    "    assert optimizer in (\"sgd\", \"adam\")\n",
    "    if optimizer == \"sgd\":\n",
    "        optimizer = optim.SGD(model.parameters(),\n",
    "                              lr=learning_rate,\n",
    "                              momentum=momentum,\n",
    "                              weight_decay=weight_decay)\n",
    "    else:\n",
    "        optimizer = optim.Adam(model.parameters(),\n",
    "                               lr=learning_rate,\n",
    "                               weight_decay=weight_decay)\n",
    "    # on track la learning curve avec des listes\n",
    "    iters, iters_acc, losses, train_acc, val_acc = [], [], [], [], []\n",
    "    # training\n",
    "    n = 0 # nombre d'iterations (pour faire des figures)\n",
    "    for epoch in range(num_epochs):\n",
    "        for imgs, labels in iter(train_loader):\n",
    "            if imgs.size()[0] < batch_size:\n",
    "                continue\n",
    "\n",
    "            model.train() # met le modèle en mode train\n",
    "            out = model(imgs)\n",
    "            loss = criterion(out, labels)\n",
    "            loss.backward()\n",
    "            optimizer.step()\n",
    "            optimizer.zero_grad()\n",
    "\n",
    "            # save the current training information\n",
    "            iters.append(n)\n",
    "            losses.append(float(loss)/batch_size)             # compute *average* loss\n",
    "\n",
    "            if n % 50 == 0 :\n",
    "              train_acc.append(get_accuracy(model, train=True)) # compute training accuracy \n",
    "              val_acc.append(get_accuracy(model, train=False))  # compute validation accuracy\n",
    "              iters_acc.append(n)\n",
    "\n",
    "            n += 1\n",
    "\n",
    "    # plotting\n",
    "    plt.title(\"Courbe d'apprentissage\")\n",
    "    plt.plot(iters, losses, label=\"Train\")\n",
    "    plt.xlabel(\"Iterations\")\n",
    "    plt.ylabel(\"Loss\")\n",
    "    plt.show()\n",
    "\n",
    "    plt.title(\"Courbe d'apprentissage\")\n",
    "    plt.plot(iters_acc, train_acc, label=\"Train\")\n",
    "    plt.plot(iters_acc, val_acc, label=\"Validation\")\n",
    "    plt.xlabel(\"Iterations\")\n",
    "    plt.ylabel(\"Training Accuracy\")\n",
    "    plt.legend(loc='best')\n",
    "    plt.show()\n",
    "\n",
    "    print(\"Précision finale Train : {}\".format(train_acc[-1]))\n",
    "    print(\"Précision finale Valid : {}\".format(val_acc[-1]))\n",
    "    \n",
    "    \n"
   ]
  },
  {
   "cell_type": "code",
   "execution_count": 22,
   "id": "80ebca97",
   "metadata": {},
   "outputs": [
    {
     "ename": "NameError",
     "evalue": "name 'mnist_train' is not defined",
     "output_type": "error",
     "traceback": [
      "\u001b[0;31m---------------------------------------------------------------------------\u001b[0m",
      "\u001b[0;31mNameError\u001b[0m                                 Traceback (most recent call last)",
      "\u001b[0;32m/tmp/ipykernel_11321/3829032157.py\u001b[0m in \u001b[0;36m<module>\u001b[0;34m\u001b[0m\n\u001b[1;32m      1\u001b[0m \u001b[0mmodel\u001b[0m \u001b[0;34m=\u001b[0m \u001b[0mModel\u001b[0m\u001b[0;34m(\u001b[0m\u001b[0;34m)\u001b[0m\u001b[0;34m\u001b[0m\u001b[0;34m\u001b[0m\u001b[0m\n\u001b[0;32m----> 2\u001b[0;31m train(model, mnist_train, batch_size=64, optimizer=\"sgd\", learning_rate=0.1,\n\u001b[0m\u001b[1;32m      3\u001b[0m       momentum=0., num_epochs=10)\n",
      "\u001b[0;31mNameError\u001b[0m: name 'mnist_train' is not defined"
     ]
    }
   ],
   "source": [
    "model = Model()\n",
    "train(model, mnist_train, batch_size=64, optimizer=\"sgd\", learning_rate=0.1,\n",
    "      momentum=0., num_epochs=10)"
   ]
  },
  {
   "cell_type": "code",
   "execution_count": 15,
   "id": "4e20106c",
   "metadata": {},
   "outputs": [
    {
     "data": {
      "image/png": "[encoded data removed]",
      "text/plain": [
       "<Figure size 432x288 with 1 Axes>"
      ]
     },
     "metadata": {
      "needs_background": "light"
     },
     "output_type": "display_data"
    }
   ],
   "source": [
    "import matplotlib.pyplot as plt\n",
    "\n",
    "plt.plot(x,y)\n",
    "plt.plot(x,a.item() + b.item() * x + c.item() * x ** 2 + d.item() * x ** 3)\n",
    "plt.show()"
   ]
  },
  {
   "cell_type": "code",
   "execution_count": 3,
   "id": "85c4cd65",
   "metadata": {},
   "outputs": [
    {
     "name": "stderr",
     "output_type": "stream",
     "text": [
      "/home/fluka/anaconda3/lib/python3.9/site-packages/torch/cuda/__init__.py:107: UserWarning: CUDA initialization: The NVIDIA driver on your system is too old (found version 10010). Please update your GPU driver by downloading and installing a new version from the URL: http://www.nvidia.com/Download/index.aspx Alternatively, go to: https://pytorch.org to install a PyTorch version that has been compiled with your version of the CUDA driver. (Triggered internally at ../c10/cuda/CUDAFunctions.cpp:109.)\n",
      "  return torch._C._cuda_getDeviceCount() > 0\n"
     ]
    },
    {
     "data": {
      "text/plain": [
       "False"
      ]
     },
     "execution_count": 3,
     "metadata": {},
     "output_type": "execute_result"
    }
   ],
   "source": [
    "import torch\n",
    "\n",
    "torch.cuda.is_available()"
   ]
  },
  {
   "cell_type": "code",
   "execution_count": null,
   "id": "bb9e17c2",
   "metadata": {},
   "outputs": [],
   "source": []
  }
 ],
 "metadata": {
  "kernelspec": {
   "display_name": "Python 3 (ipykernel)",
   "language": "python",
   "name": "python3"
  },
  "language_info": {
   "codemirror_mode": {
    "name": "ipython",
    "version": 3
   },
   "file_extension": ".py",
   "mimetype": "text/x-python",
   "name": "python",
   "nbconvert_exporter": "python",
   "pygments_lexer": "ipython3",
   "version": "3.9.7"
  }
 },
 "nbformat": 4,
 "nbformat_minor": 5
}
